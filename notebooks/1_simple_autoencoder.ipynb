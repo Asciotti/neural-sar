{
  "nbformat": 4,
  "nbformat_minor": 0,
  "metadata": {
    "colab": {
      "name": "1-simple_autoencoder.ipynb",
      "version": "0.3.2",
      "provenance": [],
      "include_colab_link": true
    },
    "kernelspec": {
      "name": "python3",
      "display_name": "Python 3"
    }
  },
  "cells": [
    {
      "cell_type": "markdown",
      "metadata": {
        "id": "view-in-github",
        "colab_type": "text"
      },
      "source": [
        "<a href=\"https://colab.research.google.com/github/Asciotti/neural-sar/blob/master/notebooks/1_simple_autoencoder.ipynb\" target=\"_parent\"><img src=\"https://colab.research.google.com/assets/colab-badge.svg\" alt=\"Open In Colab\"/></a>"
      ]
    },
    {
      "cell_type": "markdown",
      "metadata": {
        "id": "qlyag-E6VGuw",
        "colab_type": "text"
      },
      "source": [
        "# Reimplementing simple autoencoder network to colorize images\n",
        "\n",
        "Ref [Generating High Quality Visible Images from SAR Images Using CNNs](https://arxiv.org/abs/1802.10036) by Puyang Wang & Vishal M. Patel\n",
        "\n",
        "## Data Sources\n",
        "\n",
        "~3k [High Resolution Orthoimages](https://www.usgs.gov/centers/eros/science/usgs-eros-archive-aerial-photography-high-resolution-orthoimagery-hro?qt-science_center_objects=0#qt-science_center_objects) manually downloaded from https://earthexplorer.usgs.gov/ "
      ]
    },
    {
      "cell_type": "code",
      "metadata": {
        "id": "45buugUhVE0G",
        "colab_type": "code",
        "colab": {}
      },
      "source": [
        ""
      ],
      "execution_count": 0,
      "outputs": []
    }
  ]
}