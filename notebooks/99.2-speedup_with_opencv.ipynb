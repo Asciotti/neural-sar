{
  "nbformat": 4,
  "nbformat_minor": 0,
  "metadata": {
    "colab": {
      "name": "99.2-speedup_with_opencv.ipynb",
      "version": "0.3.2",
      "provenance": [],
      "include_colab_link": true
    },
    "kernelspec": {
      "name": "python3",
      "display_name": "Python 3"
    }
  },
  "cells": [
    {
      "cell_type": "markdown",
      "metadata": {
        "id": "view-in-github",
        "colab_type": "text"
      },
      "source": [
        "<a href=\"https://colab.research.google.com/github/Asciotti/neural-sar/blob/master/notebooks/99.2-speedup_with_opencv.ipynb\" target=\"_parent\"><img src=\"https://colab.research.google.com/assets/colab-badge.svg\" alt=\"Open In Colab\"/></a>"
      ]
    },
    {
      "cell_type": "markdown",
      "metadata": {
        "id": "zT3fQOleSzPD",
        "colab_type": "text"
      },
      "source": [
        "# Experiment to speed up data loading using opencv2 imread vs skimage.io imread\n",
        "\n",
        "## TL;DR Almost identical load times, most likely call same underlying C libraries, [source](https://stackoverflow.com/questions/49371792/difference-between-cv2-scipy-misc-and-skimage)\n",
        "\n",
        "### Setup: Choose 100 images out of 1000 and load them one by one\n",
        "\n"
      ]
    },
    {
      "cell_type": "code",
      "metadata": {
        "id": "BhIV4zCrHJ5Q",
        "colab_type": "code",
        "colab": {
          "base_uri": "https://localhost:8080/",
          "height": 122
        },
        "outputId": "c0673931-2af5-4137-89a3-8f7d89d57277"
      },
      "source": [
        "import numpy as np\n",
        "from skimage.util import random_noise\n",
        "from skimage import io\n",
        "import os\n",
        "import importlib\n",
        "from PIL import Image\n",
        "import matplotlib.pyplot as plt\n",
        "from sklearn.model_selection import train_test_split\n",
        "from google.colab import drive\n",
        "drive.mount('/content/drive')\n"
      ],
      "execution_count": 1,
      "outputs": [
        {
          "output_type": "stream",
          "text": [
            "Go to this URL in a browser: https://accounts.google.com/o/oauth2/auth?client_id=947318989803-6bn6qk8qdgf4n4g3pfee6491hc0brc4i.apps.googleusercontent.com&redirect_uri=urn%3Aietf%3Awg%3Aoauth%3A2.0%3Aoob&scope=email%20https%3A%2F%2Fwww.googleapis.com%2Fauth%2Fdocs.test%20https%3A%2F%2Fwww.googleapis.com%2Fauth%2Fdrive%20https%3A%2F%2Fwww.googleapis.com%2Fauth%2Fdrive.photos.readonly%20https%3A%2F%2Fwww.googleapis.com%2Fauth%2Fpeopleapi.readonly&response_type=code\n",
            "\n",
            "Enter your authorization code:\n",
            "··········\n",
            "Mounted at /content/drive\n"
          ],
          "name": "stdout"
        }
      ]
    },
    {
      "cell_type": "code",
      "metadata": {
        "id": "hLfKX7NiIAZ-",
        "colab_type": "code",
        "colab": {}
      },
      "source": [
        "import skimage.io\n",
        "choices = np.random.choice(a = range(1000), size = 100)"
      ],
      "execution_count": 0,
      "outputs": []
    },
    {
      "cell_type": "code",
      "metadata": {
        "id": "MJsTLXemIBE7",
        "colab_type": "code",
        "colab": {
          "base_uri": "https://localhost:8080/",
          "height": 68
        },
        "outputId": "71c1a36c-4094-4c34-8a70-17ead3010a40"
      },
      "source": [
        "%%time\n",
        "[io.imread('/content/drive/My Drive/Colab Notebooks/1_ft_ortho_images/{}.png'.format(x)) for x in choices]\n",
        "print('')"
      ],
      "execution_count": 32,
      "outputs": [
        {
          "output_type": "stream",
          "text": [
            "\n",
            "CPU times: user 583 ms, sys: 86.2 ms, total: 670 ms\n",
            "Wall time: 19.7 s\n"
          ],
          "name": "stdout"
        }
      ]
    },
    {
      "cell_type": "code",
      "metadata": {
        "id": "uwutf2Z6InCr",
        "colab_type": "code",
        "colab": {}
      },
      "source": [
        "del choices"
      ],
      "execution_count": 0,
      "outputs": []
    },
    {
      "cell_type": "code",
      "metadata": {
        "id": "DS3bG3-zHPnx",
        "colab_type": "code",
        "colab": {}
      },
      "source": [
        "import cv2\n",
        "choices = np.random.choice(a = range(1000), size = 100)"
      ],
      "execution_count": 0,
      "outputs": []
    },
    {
      "cell_type": "code",
      "metadata": {
        "id": "h_VUg_hyHcl5",
        "colab_type": "code",
        "colab": {
          "base_uri": "https://localhost:8080/",
          "height": 68
        },
        "outputId": "61c73663-a407-4c79-f793-3b39df17138c"
      },
      "source": [
        "%%time\n",
        "[cv2.imread('/content/drive/My Drive/Colab Notebooks/1_ft_ortho_images/{}.png'.format(x)) for x in choices]\n",
        "print('')"
      ],
      "execution_count": 41,
      "outputs": [
        {
          "output_type": "stream",
          "text": [
            "\n",
            "CPU times: user 343 ms, sys: 54.7 ms, total: 398 ms\n",
            "Wall time: 23.2 s\n"
          ],
          "name": "stdout"
        }
      ]
    }
  ]
}